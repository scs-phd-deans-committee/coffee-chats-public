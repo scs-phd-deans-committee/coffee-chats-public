{
 "cells": [
  {
   "cell_type": "code",
   "execution_count": null,
   "metadata": {},
   "outputs": [],
   "source": [
    "import pandas as pd\n",
    "import numpy as np\n",
    "import string\n",
    "from pprint import pprint\n",
    "import itertools"
   ]
  },
  {
   "cell_type": "markdown",
   "metadata": {},
   "source": [
    "# Filter to current df"
   ]
  },
  {
   "cell_type": "code",
   "execution_count": null,
   "metadata": {},
   "outputs": [],
   "source": [
    "# TODO: make sure same people as last time aren't matched\n",
    "# TODO: fill in previous values\n",
    "\n",
    "df = pd.read_csv('data/responses/responses_8_28.csv')"
   ]
  },
  {
   "cell_type": "code",
   "execution_count": null,
   "metadata": {},
   "outputs": [],
   "source": [
    "df.columns"
   ]
  },
  {
   "cell_type": "code",
   "execution_count": null,
   "metadata": {},
   "outputs": [],
   "source": [
    "# this_week \n",
    "df = df[df['Timestamp'] > '2020/08/22']\n",
    "df.groupby('What kind of interaction are you after this week?').count()['Name']"
   ]
  },
  {
   "cell_type": "code",
   "execution_count": null,
   "metadata": {},
   "outputs": [],
   "source": [
    "print(len(df))\n",
    "all_matches = []"
   ]
  },
  {
   "cell_type": "markdown",
   "metadata": {},
   "source": [
    "# Load in previous matches"
   ]
  },
  {
   "cell_type": "code",
   "execution_count": null,
   "metadata": {},
   "outputs": [],
   "source": [
    "prev_matches = pd.read_csv('data/matches/matched_pairs_8_7.csv')\n",
    "prev_matches = prev_matches[['Email 1', 'Email 2', 'Email 3 (if applicable)']]\n",
    "prev_matches = prev_matches.values.tolist()\n",
    "\n",
    "prev_pairs = []\n",
    "for m in prev_matches:\n",
    "    for combo in itertools.combinations(m, 2):\n",
    "        assert(len(combo) == 2)\n",
    "        if (type(combo[0]) == float and np.isnan(combo[0])) or (type(combo[1]) == float and np.isnan(combo[1])):\n",
    "            continue\n",
    "        prev_pairs.append(combo)"
   ]
  },
  {
   "cell_type": "markdown",
   "metadata": {},
   "source": [
    "# Mentorship Matching (supplemented w/ Random)"
   ]
  },
  {
   "cell_type": "code",
   "execution_count": null,
   "metadata": {},
   "outputs": [],
   "source": [
    "mentorship = df[df['What kind of interaction are you after this week?'] == 'PhD mentorship']\n",
    "random = df[df['What kind of interaction are you after this week?'].isin(['Random', 'Random/Other'])]"
   ]
  },
  {
   "cell_type": "code",
   "execution_count": null,
   "metadata": {},
   "outputs": [],
   "source": [
    "pd.set_option('display.max_columns', 500)"
   ]
  },
  {
   "cell_type": "markdown",
   "metadata": {},
   "source": [
    "# Friendship Matching"
   ]
  },
  {
   "cell_type": "code",
   "execution_count": null,
   "metadata": {},
   "outputs": [],
   "source": [
    "friends = df[df['What kind of interaction are you after this week?'] == 'Friendship outside of work']"
   ]
  },
  {
   "cell_type": "code",
   "execution_count": null,
   "metadata": {},
   "outputs": [],
   "source": [
    "friends.columns"
   ]
  },
  {
   "cell_type": "code",
   "execution_count": null,
   "metadata": {},
   "outputs": [],
   "source": [
    "def get_clean_hobbies(hobs):\n",
    "    hobby_lookup = {\n",
    "        'geopolitics': 'politics',\n",
    "        'foodie': 'food',\n",
    "        'movie buff': 'movies',\n",
    "        'painting': 'art',\n",
    "        'exploring cities': 'traveling',\n",
    "        'transit': 'traveling',\n",
    "        'geography': 'history',\n",
    "        'japanese language': 'languages',\n",
    "        'gaming': 'video games',\n",
    "        'playing music': 'music',\n",
    "        'physical fitness': 'fitness',\n",
    "        'exercise': 'fitness',\n",
    "        'swimming': 'fitness',\n",
    "        'super smash bros melee': 'video games',\n",
    "        'chess': 'board games',\n",
    "        'want to get involved in volunteering': 'volunteering',\n",
    "        'wine': 'alcohol',\n",
    "        'travel': 'traveling',\n",
    "        'FIRST': ['stem', 'robotics'],\n",
    "        'musicviolin': 'music',\n",
    "        'entrepreneurship': 'startups',\n",
    "        'philosophy': 'humanities',\n",
    "        'coffee': 'beverages',\n",
    "        'math': 'stem',\n",
    "        'roller skating': 'playing sports',\n",
    "        'reptiles': 'animals',\n",
    "        'visual art': 'art',\n",
    "        'economics': 'humanities',\n",
    "        'tech': 'stem',\n",
    "        'piano': 'music',\n",
    "        'card game': 'board games',\n",
    "        'algorithm': 'stem',\n",
    "        'learning languages': 'languages',\n",
    "        'classical music': 'music',\n",
    "        'reading history': 'history',\n",
    "        'ice skating': 'playing sports',\n",
    "        'practicing italian': 'languages',\n",
    "        'watching tv': 'tv',\n",
    "        'tv shows': 'tv',\n",
    "        'breweries': 'alcohol',\n",
    "        'wineries': 'alcohol',\n",
    "        'occasional visits adventure sports and theme parks': 'playing sports',\n",
    "        'watching movies': 'movies',\n",
    "        'singing': 'music',\n",
    "        'listening to podcasts and music': 'podcasts/audiobooks',\n",
    "        'diy handyman': 'diy',\n",
    "        'backpacking': 'outdoors',\n",
    "        'outdoor adventures': 'outdoors',\n",
    "        'guitar': 'music',\n",
    "        'surfing': 'playing sports',\n",
    "        'general banter': 'conversation',\n",
    "        'procrastinating by reading about procrastination': 'productivity',\n",
    "        'productivity hacks': 'productivity',\n",
    "        'cocktail making': 'alcohol',\n",
    "        'watching avatar on netflix': 'tv',\n",
    "        'action-adventure': 'movies',\n",
    "        'moviesmystery': 'movies',\n",
    "        'lazy cooking': 'cooking',\n",
    "        'violin': 'music',\n",
    "        'performance modelling': 'stem',\n",
    "        'cycling': 'biking',\n",
    "        'resource management': 'productivity',\n",
    "        'scheduling': 'productivity',\n",
    "        'networks': 'stem',\n",
    "        'and animal facts': 'animals',\n",
    "        'memes': 'comedy',\n",
    "        'musical instruments': 'music',\n",
    "        'social justice': 'volunteering',\n",
    "        'playing violin': 'music',\n",
    "        'vegetables': 'food',\n",
    "        'bread': 'food',\n",
    "        'tea': 'beverages',\n",
    "        'fermenting things': 'cooking',\n",
    "        'policy': 'politics',\n",
    "        'verification': 'stem',\n",
    "        'emacs': 'stem',\n",
    "        'systems': 'stem',\n",
    "        'photography': 'art',\n",
    "        'i play drums': 'music',\n",
    "        'climbing': 'climbing',\n",
    "        'drawing': 'art',\n",
    "        'running': 'running',\n",
    "        'jogging': 'running',\n",
    "        'learning about pittsburgh': 'pittsburgh',\n",
    "        'watching sports in quarantine': 'watching sports',\n",
    "        'ultimate frisbee': 'playing sports',\n",
    "        'want to start biking': 'biking',\n",
    "        'politics': 'politics',\n",
    "        'playing music': 'music',\n",
    "        'violin': 'music',\n",
    "        'whiskey': 'alcohol',\n",
    "        'adventure sports': 'playing sports',\n",
    "        'stand-up': 'comedy',\n",
    "        'tv': 'tv',\n",
    "        'films': 'movies',\n",
    "        'improv': 'comedy',\n",
    "        'pets': 'animals',\n",
    "        'video games': 'video games',\n",
    "        'sports': 'watching sports',\n",
    "        'gbbo': ['baking', 'cooking'],\n",
    "        'npr one': 'podcasts/audiobooks',\n",
    "        'audiobooks': 'podcasts/audiobooks',\n",
    "        'rock climbing': 'climbing',\n",
    "        'badminton': 'playing sports',  # week 8/28\n",
    "        'mystery': 'mystery',\n",
    "        'currently watching legend of korra on netflix': 'tv',\n",
    "        'formula1': 'watching sports',\n",
    "        'playing tennis': 'playing sports',\n",
    "        'things to do in pittsburgh': 'pittsburgh',\n",
    "        'podcasts': 'podcasts/audiobooks',\n",
    "        'watching musicals': 'music',\n",
    "        'reading books': 'reading',\n",
    "        'fiction stories and things about grammar':'reading',\n",
    "        'eating ice cream':'food',\n",
    "        'writing':'reading',\n",
    "        'scrolling through twitter':'twitter',\n",
    "        'space':'stem',\n",
    "        'rocks':'stem',\n",
    "        'roofs':'diy',\n",
    "        'the great british bake off':['baking', 'cooking'],\n",
    "        'marvel':'tv',\n",
    "        'agents of shield':'tv',\n",
    "        'gym':'fitness',\n",
    "        'bouldering':'climbing',\n",
    "        'finding creative ways to exercise in quarantine':'fitness',\n",
    "        'sci-fi':'sci-fi',\n",
    "        'basketball': 'playing sports',\n",
    "        'jazz rnb and foreign music': 'music',\n",
    "        'books': 'reading',\n",
    "        'learning about pittsburgh area': 'pittsburgh',\n",
    "        'dinosaurs': 'animals',\n",
    "        'cooking and experimenting with different cuisines': 'cooking',\n",
    "        'taking walks': 'outdoors',\n",
    "        'general banter and discussions': 'conversation',\n",
    "        'textiles': 'diy',\n",
    "        'knitting': 'diy',\n",
    "        'crocheting': 'diy',\n",
    "        'sewing': 'diy',\n",
    "        'mechanical engineering': 'stem',\n",
    "        'experimental music': 'music',\n",
    "        'listening to music and podcasts': 'podcasts/audiobooks',\n",
    "        'white water rafting': 'outdoors',\n",
    "        'mentoring others': 'volunteering',\n",
    "        'advocating for social justice': 'volunteering',\n",
    "        'skiing': 'playing sports',\n",
    "        'snowboarding': 'playing sports',\n",
    "        'outdoor activities': 'outdoors',\n",
    "        'language learning': 'languages',\n",
    "        'digital art': 'art',\n",
    "        'christian faith': 'christian',\n",
    "        'board game': 'board games',\n",
    "        'go': 'board games',\n",
    "        'about pittsburgh area': 'pittsburgh',\n",
    "        'watching legend of korra on netflix': 'tv',\n",
    "    }\n",
    "    \n",
    "    stopwords = [\n",
    "        'academic',\n",
    "        'currently',\n",
    "        'esp',\n",
    "        'learning',\n",
    "        'etc',\n",
    "    ]\n",
    "    clean = []\n",
    "    for h in hobs:\n",
    "        h = h.strip().lower()\n",
    "        for s in stopwords:\n",
    "            h = h.replace(s, '')   \n",
    "            h = h.strip()\n",
    "        \n",
    "        if len(h) == 0:\n",
    "            continue\n",
    "            \n",
    "        h = hobby_lookup.get(h, h)\n",
    "        if type(h) == str:\n",
    "            clean.append(hobby_lookup.get(h, h))\n",
    "        else:\n",
    "            assert(type(h) == list)\n",
    "            clean += h\n",
    "        \n",
    "    clean = [c for c in clean if len(c) > 0]\n",
    "    clean = set(clean)\n",
    "    return clean\n"
   ]
  },
  {
   "cell_type": "code",
   "execution_count": null,
   "metadata": {},
   "outputs": [],
   "source": [
    "friends.groupby('How would you like to be matched?').count()['Name']"
   ]
  },
  {
   "cell_type": "code",
   "execution_count": null,
   "metadata": {},
   "outputs": [],
   "source": [
    "len(friends)"
   ]
  },
  {
   "cell_type": "code",
   "execution_count": null,
   "metadata": {},
   "outputs": [],
   "source": []
  },
  {
   "cell_type": "code",
   "execution_count": null,
   "metadata": {},
   "outputs": [],
   "source": [
    "friends.columns"
   ]
  },
  {
   "cell_type": "code",
   "execution_count": null,
   "metadata": {},
   "outputs": [],
   "source": [
    "time_to_person = {}\n",
    "hobby_ct = {}\n",
    "friends = friends[[\n",
    "    'Username',\n",
    "    'Name', \n",
    "    'What times would you be able to meet? (Pittsburgh time) [Morning]',\n",
    "    'What times would you be able to meet? (Pittsburgh time) [Afternoon]',\n",
    "    'What times would you be able to meet? (Pittsburgh time) [Evening]',\n",
    "    'Where would you want to be able to meet?', \n",
    "    'Hobbies/Interests', \n",
    "    'How would you like to be matched?',\n",
    "    'Anything else you want us to know for matching purposes?']]\n",
    "\n",
    "people = []\n",
    "for (i, row) in friends.iterrows():\n",
    "    username, name, m_times, a_times, e_times, where, hobbies, how, other = row\n",
    "    \n",
    "    if (m_times is None) or (type(m_times) == float and np.isnan(m_times)):\n",
    "        m_times = ''\n",
    "    if (a_times is None) or (type(a_times) == float and np.isnan(a_times)):\n",
    "        a_times = ''\n",
    "    if (e_times is None) or (type(e_times) == float and np.isnan(e_times)):\n",
    "        e_times = ''\n",
    "    ts = list(['{} Morning'.format(t) for t in m_times.split(';')])\n",
    "    ts += list(['{} Afternoon'.format(t) for t in a_times.split(';')])\n",
    "    ts += list(['{} Evening'.format(t) for t in e_times.split(';')])\n",
    "    wh = [] if (where is None or (type(where) == float and np.isnan(where))) else where.split(';')\n",
    "    \n",
    "    if (hobbies is None or (type(hobbies) == float and np.isnan(hobbies))):\n",
    "        hob = []\n",
    "    else:\n",
    "        hobbies = hobbies.replace('\\n', ',').replace(':', ',').replace(';', ',')\n",
    "        hobbies = hobbies.translate(str.maketrans(string.punctuation.replace('-', ''), ',' * (len(string.punctuation) - 1), ''))\n",
    "        hobbies = hobbies.split(',')\n",
    "        hob = [h.lower().strip() for h in hobbies]\n",
    "    oth = '' if (other is None or (type(other) == float and np.isnan(other))) else other\n",
    "    \n",
    "    for h in set(get_clean_hobbies(hob)):\n",
    "        hobby_ct[h] = hobby_ct.get(h, 0) + 1\n",
    "        \n",
    "    for t in ts:\n",
    "        time_to_person[t] = time_to_person.get(t, []) + [(name, wh, hob)]\n",
    "    people.append([username, name, ts, wh, hob, how, oth])"
   ]
  },
  {
   "cell_type": "code",
   "execution_count": null,
   "metadata": {},
   "outputs": [],
   "source": [
    "def get_match_score(p1, p2):\n",
    "    reasons = []\n",
    "    \n",
    "    usr1, name1, t1, wh1, hob1, how1, oth1 = p1\n",
    "    usr2, name2, t2, wh2, hob2, how2, oth2 = p2\n",
    "    \n",
    "    score = 0\n",
    "    \n",
    "    if ((usr1, usr2) in prev_pairs) or ((usr2, usr1) in prev_pairs):\n",
    "        score -= 5\n",
    "    \n",
    "    # based on timing    \n",
    "    common_times = set(t1).intersection(set(t2))\n",
    "    if len(common_times) > 0:\n",
    "        score += 2\n",
    "        reasons.append(['common time', common_times])\n",
    "    \n",
    "    # based on location\n",
    "    if wh1 is None:\n",
    "        wh1 = ['Over Zoom', 'In-person in Pittsburgh (physically distant and outside)']\n",
    "    if wh2 is None:\n",
    "        wh2 = ['Over Zoom', 'In-person in Pittsburgh (physically distant and outside)']\n",
    "    common_place = set(wh1).intersection(set(wh2))\n",
    "    if len(common_place) > 0:\n",
    "        score += 1\n",
    "        if len(wh1) == 1 and len(wh2) == 1:\n",
    "            score += 0.5\n",
    "        reasons.append(['common place', common_place])\n",
    "    else:\n",
    "        score -= 3\n",
    "    \n",
    "    # based on hobbies\n",
    "    hob1 = get_clean_hobbies(hob1)  # in the future it may be better to tokenize\n",
    "    hob2 = get_clean_hobbies(hob2)\n",
    "    common_interests = hob1.intersection(hob2)\n",
    "    reasons.append(['common interests', common_interests])\n",
    "    for ci in common_interests:\n",
    "        if hobby_ct[ci] <= 5:\n",
    "            score += 3\n",
    "        else:\n",
    "            score += 2\n",
    "#     score += 2 * len(common_interests)\n",
    "\n",
    "    if (how1 == 'In a pair') and (how2 == 'In a pair'):\n",
    "        score += 2\n",
    "\n",
    "    return score, reasons"
   ]
  },
  {
   "cell_type": "code",
   "execution_count": null,
   "metadata": {
    "scrolled": true
   },
   "outputs": [],
   "source": [
    "# first, compute pairwise cores\n",
    "\n",
    "match_scores = []\n",
    "for (i, p1) in enumerate(people):\n",
    "    for (j, p2) in enumerate(people):\n",
    "        if not (i < j):\n",
    "            continue\n",
    "        \n",
    "        usr1, name1, t1, wh1, hob1, how1, oth1 = p1\n",
    "        usr2, name2, t2, wh2, hob2, how2, oth2 = p2\n",
    "            \n",
    "        s, reasons = get_match_score(p1, p2)\n",
    "        \n",
    "        if how1 == 'In a group of 3-4' or how2 == 'In a group of 3-4':\n",
    "            s -= 5\n",
    "        if how1 == 'No preference' and how2 == 'No preference':\n",
    "            s -= 1\n",
    "        \n",
    "        match_scores.append([(i, j), s])"
   ]
  },
  {
   "cell_type": "code",
   "execution_count": null,
   "metadata": {},
   "outputs": [],
   "source": [
    "# next compute triple scores for the remaining people\n",
    "\n",
    "triple_scores = []\n",
    "for (i, p1) in enumerate(people):\n",
    "    for (j, p2) in enumerate(people):\n",
    "        for (k, p3) in enumerate(people):\n",
    "            if not (i < j and j < k):\n",
    "                continue\n",
    "\n",
    "#             if (i in matched_people) or (j in matched_people) or (k in matched_people):\n",
    "#                 continue\n",
    "                \n",
    "            usr1, name1, t1, wh1, hob1, how1, oth1 = p1\n",
    "            usr2, name2, t2, wh2, hob2, how2, oth2 = p2\n",
    "            usr2, name3, t3, wh3, hob3, how3, oth3 = p3\n",
    "\n",
    "#             assert('In a pair' not in set([how1, how2, how3]))\n",
    "            \n",
    "            s12, reasons12 = get_match_score(p1, p2)\n",
    "            s23, reasons23 = get_match_score(p2, p3)\n",
    "            s13, reasons13 = get_match_score(p1, p3)\n",
    "            s = (s12 + s23 + s13) / 2.5\n",
    "            \n",
    "            if 'In a pair' in set([how1, how2, how3]):\n",
    "                s -= 6\n",
    "            \n",
    "            if 'In a group of 3-4' in set([how1, how2, how3]):\n",
    "                s += 2\n",
    "            \n",
    "            triple_scores.append([(i, j, k), s])\n",
    "\n",
    "# triple_scores = list(reversed(sorted(triple_scores, key=lambda x: x[1])))\n",
    "# for idx, s in triple_scores:\n",
    "#     i, j, k = idx\n",
    "#     if (i in matched_people) or (j in matched_people) or (k in matched_people):\n",
    "#         continue\n",
    "    \n",
    "#     p1 = people[i]\n",
    "#     p2 = people[j]\n",
    "#     p3 = people[k]\n",
    "    \n",
    "#     matches.append((i, j, k))\n",
    "#     matched_people.add(i)\n",
    "#     matched_people.add(j)\n",
    "#     matched_people.add(k)\n",
    "        \n",
    "#     print('------------------------')\n",
    "#     print('score: ', s)\n",
    "#     print('P1: ', p1[1])\n",
    "#     print('hobbies: ', p1[4])\n",
    "#     print('how: ', p1[5])\n",
    "#     print('other: ', p1[6])\n",
    "#     print('')\n",
    "#     print('P2: ', p2[1])\n",
    "#     print('hobbies: ', p2[4])\n",
    "#     print('how: ', p2[5])\n",
    "#     print('other: ', p2[6])\n",
    "#     print('')\n",
    "#     print('P3: ', p3[1])\n",
    "#     print('hobbies: ', p3[4])\n",
    "#     print('how: ', p3[5])\n",
    "#     print('other: ', p3[6])\n",
    "#     print('')\n",
    "#     pprint(get_match_score(p1, p2)[1])\n"
   ]
  },
  {
   "cell_type": "code",
   "execution_count": null,
   "metadata": {
    "scrolled": true
   },
   "outputs": [],
   "source": []
  },
  {
   "cell_type": "code",
   "execution_count": null,
   "metadata": {},
   "outputs": [],
   "source": []
  },
  {
   "cell_type": "code",
   "execution_count": null,
   "metadata": {
    "scrolled": true
   },
   "outputs": [],
   "source": [
    "# all cleaned tokens\n",
    "list(reversed(sorted(hobby_ct.items(), key=lambda x: x[1])))"
   ]
  },
  {
   "cell_type": "code",
   "execution_count": null,
   "metadata": {},
   "outputs": [],
   "source": [
    "all_friend_scores = match_scores + triple_scores\n",
    "all_friend_scores = list(reversed(sorted(all_friend_scores, key=lambda x: x[1])))\n",
    "all_friend_scores[:2]"
   ]
  },
  {
   "cell_type": "code",
   "execution_count": null,
   "metadata": {
    "scrolled": true
   },
   "outputs": [],
   "source": [
    "# PRINT FINAL MATCHES\n",
    "\n",
    "matches = []\n",
    "matched_people = set([])\n",
    "for idx, s in all_friend_scores:\n",
    "    assert(len(idx) in [2, 3])\n",
    "    \n",
    "    if len(matched_people.intersection(set(list(idx)))) > 0:\n",
    "        continue\n",
    "        \n",
    "    st = '{}\\nscore: {}\\n\\n'.format(idx, s)\n",
    "    for (_, i) in enumerate(list(idx)):\n",
    "        matched_people.add(i)\n",
    "        p = people[i]\n",
    "        st += 'P{}: {}\\nhobbies: {}\\nhow: {}\\nother: {}\\n\\n'.format(\n",
    "            _, p[1], p[4], p[5], p[6])\n",
    "    print(st)\n",
    "    matches.append(idx)\n",
    "    if len(idx) == 2:\n",
    "        pprint(get_match_score(people[idx[0]], people[idx[1]])[1])\n",
    "    print('------------------------')"
   ]
  },
  {
   "cell_type": "code",
   "execution_count": null,
   "metadata": {
    "scrolled": true
   },
   "outputs": [],
   "source": [
    "print('Remaining unmatched friends: ', list([i for i in range(len(people)) if i not in matched_people]))"
   ]
  },
  {
   "cell_type": "code",
   "execution_count": null,
   "metadata": {},
   "outputs": [],
   "source": []
  },
  {
   "cell_type": "code",
   "execution_count": null,
   "metadata": {},
   "outputs": [],
   "source": [
    "e1 = []\n",
    "e2 = []\n",
    "e3 = []\n",
    "for idxs in matches:\n",
    "    e1.append(people[idxs[0]][0])\n",
    "    e2.append(people[idxs[1]][0])\n",
    "    if len(idxs) == 3:\n",
    "        e3.append(people[idxs[2]][0])\n",
    "    else:\n",
    "        e3.append(np.nan)\n",
    "    \n",
    "print(e1)\n",
    "print(e2)\n",
    "print(e3)\n",
    "friend_emails = pd.DataFrame({\n",
    "    'Email 1': e1,\n",
    "    'Email 2': e2,\n",
    "    'Email 3 (if applicable)': e3\n",
    "})"
   ]
  },
  {
   "cell_type": "markdown",
   "metadata": {},
   "source": [
    "# Review"
   ]
  },
  {
   "cell_type": "code",
   "execution_count": null,
   "metadata": {},
   "outputs": [],
   "source": [
    "# read in the matched pairs and look for unmatched\n",
    "ms = pd.read_csv('data/matches/manual_matches_8_29.csv')[['Email 1', 'Email 2', 'Email 3 (if applicable)']]\n",
    "ms = pd.concat([ms, friend_emails], axis=0)\n",
    "ms = ms.reset_index()\n",
    "ms"
   ]
  },
  {
   "cell_type": "code",
   "execution_count": null,
   "metadata": {},
   "outputs": [],
   "source": [
    "# look for any missing\n",
    "full = df['Username'].tolist()\n",
    "done = ms['Email 1'].tolist() + \\\n",
    "       ms['Email 2'].tolist() + \\\n",
    "       ms['Email 3 (if applicable)'].tolist()\n",
    "done = [i for i in done if type(i) == str]\n",
    "\n",
    "incomplete = []\n",
    "for i in full:\n",
    "    if (i not in done):\n",
    "        incomplete.append(i)\n",
    "        \n",
    "incomplete"
   ]
  },
  {
   "cell_type": "code",
   "execution_count": null,
   "metadata": {},
   "outputs": [],
   "source": [
    "pd.set_option('max_colwidth', 100)\n",
    "incomplete = df[df['Username'].isin(incomplete)]\n",
    "incomplete"
   ]
  },
  {
   "cell_type": "code",
   "execution_count": null,
   "metadata": {},
   "outputs": [],
   "source": [
    "ms.to_csv('data/matches/matched_pairs_8_29.csv', index=False)"
   ]
  },
  {
   "cell_type": "code",
   "execution_count": null,
   "metadata": {},
   "outputs": [],
   "source": [
    "full.columns"
   ]
  },
  {
   "cell_type": "code",
   "execution_count": null,
   "metadata": {},
   "outputs": [],
   "source": [
    "ms = pd.read_csv('data/matches/matched_pairs_8_29.csv')\n",
    "full = pd.read_csv('data/responses/responses_8_28.csv')\n",
    "\n",
    "d = {}\n",
    "for (i, row) in full.iterrows():\n",
    "    dd = dict(zip(full.columns.tolist(), row.tolist()))\n",
    "    m_times = dd['What times would you be able to meet? (Pittsburgh time) [Morning]']\n",
    "    a_times = dd['What times would you be able to meet? (Pittsburgh time) [Afternoon]']\n",
    "    e_times = dd['What times would you be able to meet? (Pittsburgh time) [Evening]']\n",
    "    if (m_times is None) or (type(m_times) == float and np.isnan(m_times)):\n",
    "        m_times = ''\n",
    "    if (a_times is None) or (type(a_times) == float and np.isnan(a_times)):\n",
    "        a_times = ''\n",
    "    if (e_times is None) or (type(e_times) == float and np.isnan(e_times)):\n",
    "        e_times = ''\n",
    "    ts = list(['{} Morning'.format(t) for t in m_times.split(';')])\n",
    "    ts += list(['{} Afternoon'.format(t) for t in a_times.split(';')])\n",
    "    ts += list(['{} Evening'.format(t) for t in e_times.split(';')])\n",
    "    ts = ';'.join(ts)\n",
    "\n",
    "    \n",
    "    d[dd['Username']] = {\n",
    "        'name': dd['Name'],\n",
    "        'times': ts,\n",
    "        'location': dd['Where would you want to be able to meet?'],\n",
    "        'interaction': dd['What kind of interaction are you after this week?'],\n",
    "        'hobbies': dd['Hobbies/Interests'],\n",
    "        'research': dd['Research topics/interests'],\n",
    "        'mentor/mentee': dd['Would you like to be a mentor and/or mentee?'],\n",
    "        'background': dd['Background'],\n",
    "        'other': [dd['Anything else you want us to know for matching purposes?'],\n",
    "                  dd['Anything else you want us to know for matching purposes?.1'],\n",
    "                  dd['Anything else you want us to know for matching purposes?.2'],\n",
    "                  dd['Anything else you want us to know for matching purposes?.3']],\n",
    "    }"
   ]
  },
  {
   "cell_type": "code",
   "execution_count": null,
   "metadata": {},
   "outputs": [],
   "source": []
  },
  {
   "cell_type": "code",
   "execution_count": null,
   "metadata": {},
   "outputs": [],
   "source": [
    "groups = []\n",
    "N = 0\n",
    "\n",
    "problems = []\n",
    "for (i, row) in ms.iterrows():\n",
    "    print('\\n\\n=============================================================\\n\\n')\n",
    "    _,email1, email2, email3 = row.tolist()\n",
    "    \n",
    "    name1 = d[email1]['name'].split(' ')[0]\n",
    "    name2 = d[email2]['name'].split(' ')[0]\n",
    "    if type(email3) == str:\n",
    "        name3 = d[email3]['name'].split(' ')[0]\n",
    "    else:\n",
    "        name3 = None\n",
    "\n",
    "    t1 = set(d[email1]['times'].split(';'))\n",
    "    t2 = set(d[email2]['times'].split(';'))\n",
    "    time = t1.intersection(t2)\n",
    "    if type(email3) == str:\n",
    "        t3 = set(d[email3]['times'].split(';'))\n",
    "        time = time.intersection(t3)\n",
    "    if len(time) == 0:\n",
    "        time = None\n",
    "        print('NO TIME')\n",
    "        print(email1, email2)\n",
    "        problems.append(email1)\n",
    "        problems.append(email2)\n",
    "    else:\n",
    "        time = ', '.join(list(time))\n",
    "\n",
    "    l1 = set(d[email1]['location'].split(';'))\n",
    "    l2 = set(d[email2]['location'].split(';'))\n",
    "    loc = l1.intersection(l2)\n",
    "    if type(email3) == str:\n",
    "        l3 = set(d[email3]['location'].split(';'))\n",
    "        loc = loc.intersection(l3)\n",
    "    if len(loc) == 0:\n",
    "        loc = None\n",
    "        print('NO LOCATION')\n",
    "        print(email1, email2)\n",
    "        problems.append(email1)\n",
    "        problems.append(email2)\n",
    "    else:\n",
    "        location = ', '.join(list(loc))\n",
    "    \n",
    "    interactions = []\n",
    "    interactions.append(d[email1]['interaction'])\n",
    "    interactions.append(d[email2]['interaction'])\n",
    "    \n",
    "    "
   ]
  },
  {
   "cell_type": "code",
   "execution_count": null,
   "metadata": {},
   "outputs": [],
   "source": [
    "problems"
   ]
  },
  {
   "cell_type": "code",
   "execution_count": null,
   "metadata": {},
   "outputs": [],
   "source": [
    "pd.set_option('max_colwidth', 500)\n",
    "full[full['Username'].isin(problems)]"
   ]
  },
  {
   "cell_type": "code",
   "execution_count": null,
   "metadata": {},
   "outputs": [],
   "source": [
    "df.columns"
   ]
  },
  {
   "cell_type": "code",
   "execution_count": null,
   "metadata": {},
   "outputs": [],
   "source": [
    "pd.set_option('max_rows', 500)\n",
    "df[['Username', \n",
    "    'Anything else you want us to know for matching purposes?',\n",
    "    'Anything else you want us to know for matching purposes?.1',\n",
    "    'Anything else you want us to know for matching purposes?.2',\n",
    "    'Anything else you want us to know for matching purposes?.3']]"
   ]
  },
  {
   "cell_type": "code",
   "execution_count": null,
   "metadata": {},
   "outputs": [],
   "source": [
    "sum([len([v for v in m if type(v) == str]) for m in ms.values])"
   ]
  },
  {
   "cell_type": "code",
   "execution_count": null,
   "metadata": {},
   "outputs": [],
   "source": []
  },
  {
   "cell_type": "code",
   "execution_count": null,
   "metadata": {},
   "outputs": [],
   "source": []
  },
  {
   "cell_type": "code",
   "execution_count": null,
   "metadata": {},
   "outputs": [],
   "source": []
  },
  {
   "cell_type": "code",
   "execution_count": null,
   "metadata": {},
   "outputs": [],
   "source": []
  },
  {
   "cell_type": "code",
   "execution_count": null,
   "metadata": {},
   "outputs": [],
   "source": []
  }
 ],
 "metadata": {
  "kernelspec": {
   "display_name": "Python 3",
   "language": "python",
   "name": "python3"
  },
  "language_info": {
   "codemirror_mode": {
    "name": "ipython",
    "version": 3
   },
   "file_extension": ".py",
   "mimetype": "text/x-python",
   "name": "python",
   "nbconvert_exporter": "python",
   "pygments_lexer": "ipython3",
   "version": "3.6.10"
  }
 },
 "nbformat": 4,
 "nbformat_minor": 4
}
